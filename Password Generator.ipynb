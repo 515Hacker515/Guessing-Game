{
 "cells": [
  {
   "cell_type": "markdown",
   "id": "26364ced",
   "metadata": {},
   "source": [
    "This python project is a password generator that generates passwords with specified lenght (6-15 characters)\n",
    "\n",
    "- Input 1: an integer number specifying how many passwords you want\n",
    "\n",
    "- Input 2: an integer number specifying the lenght of password\n",
    "\n",
    "- Output: list of passwords (min 1 number, min 1 uppercase, min 1 lowercase, min 1 special character)"
   ]
  },
  {
   "cell_type": "code",
   "execution_count": null,
   "id": "bfff9150",
   "metadata": {},
   "outputs": [],
   "source": [
    "import random"
   ]
  },
  {
   "cell_type": "code",
   "execution_count": null,
   "id": "e1d60b5a",
   "metadata": {},
   "outputs": [],
   "source": [
    "all_variables = '0123456789abcdefghijklmnopqrstuvwxyzABCDEFGHIJKLMNOPQRSTUVWXYZ!#$%&\\\\*.?:;'\n",
    "nums = '0123456789'\n",
    "low_letters = 'abcdefghijklmnopqrstuvwxyz'\n",
    "upp_letters = 'ABCDEFGHIJKLMNOPQRSTUVWXYZ'\n",
    "chars = '!#$%&\\\\*.?:;'\n",
    "lst_to_save_passwords = []\n",
    "\n",
    "while True:\n",
    "    try:\n",
    "        number = int(input('Type how many passwords you want: '))\n",
    "        lenght = int(input('Type what lenght you want password to be: '))\n",
    "        \n",
    "        if number > 15 or number < 0 or lenght > 15 or lenght < 6:\n",
    "            print('Please type a number less than 15 or greater than 6')\n",
    "            continue\n",
    "        else:\n",
    "            break\n",
    "    \n",
    "    except Exception as e:\n",
    "        print('Please type a number not a string!')\n",
    "        \n",
    "for a in range(number):\n",
    "    while True:\n",
    "        pwds = ''\n",
    "        num,low,upp,ch = 0,0,0,0\n",
    "        for p in range(lenght):\n",
    "            pwds += random.choice(all_variables)\n",
    "    \n",
    "        for i in pwds:\n",
    "            if i in nums:\n",
    "                num += 1\n",
    "            if i in low_letters:\n",
    "                low += 1\n",
    "            if i in upp_letters:\n",
    "                upp += 1\n",
    "            if i in chars:\n",
    "                ch += 1\n",
    "            \n",
    "        if num > 0 and low > 0 and upp > 0 and ch > 0:\n",
    "            lst_to_save_passwords.append(pwds)\n",
    "            break\n",
    "            \n",
    "print(lst_to_save_passwords)"
   ]
  }
 ],
 "metadata": {
  "kernelspec": {
   "display_name": "Python 3 (ipykernel)",
   "language": "python",
   "name": "python3"
  },
  "language_info": {
   "codemirror_mode": {
    "name": "ipython",
    "version": 3
   },
   "file_extension": ".py",
   "mimetype": "text/x-python",
   "name": "python",
   "nbconvert_exporter": "python",
   "pygments_lexer": "ipython3",
   "version": "3.9.12"
  }
 },
 "nbformat": 4,
 "nbformat_minor": 5
}
