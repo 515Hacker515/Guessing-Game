{
 "cells": [
  {
   "cell_type": "markdown",
   "metadata": {},
   "source": [
    "# Guessing Game Challenge\n",
    "\n",
    "Let's use `while` loops to create a guessing game.\n",
    "\n",
    "The Challenge:\n",
    "\n",
    "Write a program that picks a random integer from 1 to 100, and has players guess the number. The rules are:\n",
    "\n",
    "1. If a player's guess is less than 1 or greater than 100, say \"OUT OF BOUNDS\"\n",
    "2. On a player's first turn, if their guess is\n",
    " * within 10 of the number, return \"WARM!\"\n",
    " * further than 10 away from the number, return \"COLD!\"\n",
    "3. On all subsequent turns, if a guess is \n",
    " * closer to the number than the previous guess return \"WARMER!\"\n",
    " * farther from the number than the previous guess, return \"COLDER!\"\n",
    "4. When the player's guess equals the number, tell them they've guessed correctly *and* how many guesses it took!\n",
    "\n",
    "You can try this from scratch, or follow the steps outlined below. A separate Solution notebook has been provided. Good luck!\n"
   ]
  },
  {
   "cell_type": "code",
   "execution_count": null,
   "metadata": {},
   "outputs": [],
   "source": [
    "guesses = []\n",
    "count = 0\n",
    "while True:\n",
    "    try:\n",
    "        user = int(input('Please enter a number: '))\n",
    "        guesses.append(user)\n",
    "        if user in range(1, 101):\n",
    "            pass\n",
    "    except:\n",
    "        continue\n",
    "    if user == rand:\n",
    "        print(f'Congratulations you guessed in {len(guesses)} guesses')\n",
    "        break\n",
    "    elif abs(rand - user) <= 10 and count == 0:\n",
    "        print('WARM')\n",
    "        count += 1\n",
    "        continue\n",
    "    elif abs(rand - user) > 10 and count == 0:\n",
    "        print('COLD')\n",
    "        count += 1\n",
    "        continue\n",
    "    if abs(rand - guesses[-2]) > abs(rand - guesses[-1]):\n",
    "        print('WARMER')\n",
    "    if abs(rand - guesses[-2]) < abs(rand - guesses[-1]):\n",
    "        print('COLDER') "
   ]
  }
 ],
 "metadata": {
  "kernelspec": {
   "display_name": "Python 3 (ipykernel)",
   "language": "python",
   "name": "python3"
  },
  "language_info": {
   "codemirror_mode": {
    "name": "ipython",
    "version": 3
   },
   "file_extension": ".py",
   "mimetype": "text/x-python",
   "name": "python",
   "nbconvert_exporter": "python",
   "pygments_lexer": "ipython3",
   "version": "3.9.12"
  }
 },
 "nbformat": 4,
 "nbformat_minor": 2
}
